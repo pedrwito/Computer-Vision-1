{
 "cells": [
  {
   "cell_type": "code",
   "execution_count": 1,
   "id": "695011b9",
   "metadata": {},
   "outputs": [],
   "source": [
    "from scipy.fft import fft, ifft\n",
    "from scipy import ndimage\n",
    "import numpy as np\n",
    "import cv2 as cv2\n",
    "import matplotlib.pyplot as plt\n",
    "import os"
   ]
  },
  {
   "cell_type": "code",
   "execution_count": 2,
   "id": "141c0b3e",
   "metadata": {},
   "outputs": [],
   "source": [
    "def GetImageROI(img, area = 0.1):    \n",
    "    scale = np.sqrt(area)\n",
    "    crop_h = int(img.shape[0] * scale)\n",
    "    crop_w = int(img.shape[1] * scale)\n",
    "\n",
    "    # Calculate start and end indices to crop the center\n",
    "    start_row = (img.shape[0] - crop_h) // 2\n",
    "    start_col = (img.shape[1] - crop_w) // 2\n",
    "    end_row = start_row + crop_h\n",
    "    end_col = start_col + crop_w\n",
    "\n",
    "    # Crop the center 10% region\n",
    "    center_crop = img[start_row:end_row, start_col:end_col]\n",
    "\n",
    "    return center_crop.shape"
   ]
  },
  {
   "cell_type": "code",
   "execution_count": 3,
   "id": "0aba9391",
   "metadata": {},
   "outputs": [],
   "source": [
    "def Calc_Image_Quality_Measure(img):\n",
    "    img_copy  = img.copy()\n",
    "    imgTff = fft(img_copy)\n",
    "    imgShifted = np.fft.fftshift(imgTff)\n",
    "    imgAbs = abs(imgShifted)\n",
    "    imgFreq = np.fft.fftfreq(len(imgTff))\n",
    "    mask = imgFreq >= 0\n",
    "    positive_freqs = imgFreq[mask]\n",
    "    positive_magnitudes = imgAbs[mask]\n",
    "\n",
    "    maxfreq = positive_freqs[np.argmax(positive_magnitudes)]\n",
    "\n",
    "    threshold = -maxfreq / 1000\n",
    "    Th = np.sum(imgTff > threshold)\n",
    "    num_rows = img_copy.shape[0]\n",
    "    num_col = img_copy.shape[1]\n",
    "\n",
    "    Iqm = Th / (num_rows*num_col)\n",
    "    return Iqm\n"
   ]
  },
  {
   "cell_type": "code",
   "execution_count": 4,
   "id": "cbbd6dc6",
   "metadata": {},
   "outputs": [],
   "source": [
    "def AnalizeImage(img, ROIarea = 0.1):\n",
    "    image_IQM = Calc_Image_Quality_Measure(img)\n",
    "    imageROI_IQM_05 = Calc_Image_Quality_Measure(GetImageROI(img, 0.05))\n",
    "    imageROI_IQM_1 = Calc_Image_Quality_Measure(GetImageROI(img))\n",
    "\n",
    "    print(\"IQM original:\", image_IQM, \"ROI 0.05 IQM:\", imageROI_IQM_05, \"ROI 0.1 IQM:\", imageROI_IQM_1)\n",
    "    return [image_IQM, imageROI_IQM_05, imageROI_IQM_1]"
   ]
  },
  {
   "cell_type": "code",
   "execution_count": null,
   "id": "4abab87c",
   "metadata": {},
   "outputs": [
    {
     "name": "stdout",
     "output_type": "stream",
     "text": [
      "Error: Could not open video.\n",
      "Extracted 0 frames to 'TP2\\Images'\n"
     ]
    }
   ],
   "source": [
    "video_path = 'TP2\\focus_video.mov'\n",
    "output_folder = 'TP2\\Images'\n",
    "\n",
    "os.makedirs(output_folder, exist_ok=True)\n",
    "\n",
    "# Open video file\n",
    "cap = cv2.VideoCapture(video_path)\n",
    "if not cap.isOpened():\n",
    "    print(\"Error: Could not open video.\")\n",
    "\n",
    "frame_count = 0\n",
    "success = True\n",
    "\n",
    "while success:\n",
    "    success, frame = cap.read()\n",
    "    if success:\n",
    "        frame_filename = os.path.join(output_folder, f'frame_{frame_count:04d}.jpg')\n",
    "        cv2.imwrite(frame_filename, frame)\n",
    "        frame_count += 1\n",
    "\n",
    "cap.release()\n",
    "print(f\"Extracted {frame_count} frames to '{output_folder}'\")"
   ]
  },
  {
   "cell_type": "code",
   "execution_count": 6,
   "id": "81788688",
   "metadata": {},
   "outputs": [
    {
     "name": "stdout",
     "output_type": "stream",
     "text": [
      "Video path: e:\\importante\\Master\\MLOps\\TP\\TP2\\Computer-Vision-1\\TP2\focus_video.mov\n",
      "❌ File not found at path: TP2\focus_video.mov\n"
     ]
    }
   ],
   "source": [
    "print(\"Video path:\", os.path.abspath(video_path))\n",
    "\n",
    "if not os.path.exists(video_path):\n",
    "    print(\"❌ File not found at path:\", video_path)\n",
    "else:\n",
    "    print(\"✅ File found.\")"
   ]
  }
 ],
 "metadata": {
  "kernelspec": {
   "display_name": ".venv",
   "language": "python",
   "name": "python3"
  },
  "language_info": {
   "codemirror_mode": {
    "name": "ipython",
    "version": 3
   },
   "file_extension": ".py",
   "mimetype": "text/x-python",
   "name": "python",
   "nbconvert_exporter": "python",
   "pygments_lexer": "ipython3",
   "version": "3.11.9"
  }
 },
 "nbformat": 4,
 "nbformat_minor": 5
}
